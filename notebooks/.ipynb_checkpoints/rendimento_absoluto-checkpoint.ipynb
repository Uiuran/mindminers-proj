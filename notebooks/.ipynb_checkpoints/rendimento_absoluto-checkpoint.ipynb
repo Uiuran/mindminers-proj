{
 "cells": [
  {
   "cell_type": "code",
   "execution_count": 1,
   "metadata": {},
   "outputs": [],
   "source": [
    "import mmcalculadora as calc"
   ]
  },
  {
   "cell_type": "code",
   "execution_count": 2,
   "metadata": {},
   "outputs": [],
   "source": [
    "calculadora=calc.IRCalculadora('../data/stocks-dataset.csv')"
   ]
  },
  {
   "cell_type": "code",
   "execution_count": 4,
   "metadata": {},
   "outputs": [],
   "source": [
    "calculadora=calculadora()"
   ]
  },
  {
   "cell_type": "code",
   "execution_count": 7,
   "metadata": {},
   "outputs": [
    {
     "data": {
      "text/html": [
       "<div>\n",
       "<style scoped>\n",
       "    .dataframe tbody tr th:only-of-type {\n",
       "        vertical-align: middle;\n",
       "    }\n",
       "\n",
       "    .dataframe tbody tr th {\n",
       "        vertical-align: top;\n",
       "    }\n",
       "\n",
       "    .dataframe thead th {\n",
       "        text-align: right;\n",
       "    }\n",
       "</style>\n",
       "<table border=\"1\" class=\"dataframe\">\n",
       "  <thead>\n",
       "    <tr style=\"text-align: right;\">\n",
       "      <th></th>\n",
       "      <th>mes</th>\n",
       "      <th>valor total compra</th>\n",
       "      <th>valor total venda</th>\n",
       "      <th>Imposto Devido</th>\n",
       "      <th>RAbr</th>\n",
       "      <th>RAliq</th>\n",
       "      <th>Prejuizo Absoluto</th>\n",
       "    </tr>\n",
       "  </thead>\n",
       "  <tbody>\n",
       "    <tr>\n",
       "      <th>0</th>\n",
       "      <td>2020-01</td>\n",
       "      <td>27157.0</td>\n",
       "      <td>5770.0</td>\n",
       "      <td>0.00</td>\n",
       "      <td>-274.777778</td>\n",
       "      <td>-274.777778</td>\n",
       "      <td>-274.777778</td>\n",
       "    </tr>\n",
       "    <tr>\n",
       "      <th>1</th>\n",
       "      <td>2020-02</td>\n",
       "      <td>13039.0</td>\n",
       "      <td>6083.0</td>\n",
       "      <td>0.00</td>\n",
       "      <td>-1630.333333</td>\n",
       "      <td>-1630.333333</td>\n",
       "      <td>0.000000</td>\n",
       "    </tr>\n",
       "    <tr>\n",
       "      <th>2</th>\n",
       "      <td>2020-03</td>\n",
       "      <td>9650.0</td>\n",
       "      <td>4000.0</td>\n",
       "      <td>0.00</td>\n",
       "      <td>-3166.000000</td>\n",
       "      <td>-3166.000000</td>\n",
       "      <td>-3166.000000</td>\n",
       "    </tr>\n",
       "    <tr>\n",
       "      <th>3</th>\n",
       "      <td>2020-04</td>\n",
       "      <td>8962.0</td>\n",
       "      <td>0.0</td>\n",
       "      <td>0.00</td>\n",
       "      <td>0.000000</td>\n",
       "      <td>0.000000</td>\n",
       "      <td>0.000000</td>\n",
       "    </tr>\n",
       "    <tr>\n",
       "      <th>4</th>\n",
       "      <td>2020-05</td>\n",
       "      <td>0.0</td>\n",
       "      <td>26083.0</td>\n",
       "      <td>3909.15</td>\n",
       "      <td>26061.000000</td>\n",
       "      <td>22151.850000</td>\n",
       "      <td>0.000000</td>\n",
       "    </tr>\n",
       "    <tr>\n",
       "      <th>5</th>\n",
       "      <td>2020-06</td>\n",
       "      <td>2210.0</td>\n",
       "      <td>21600.0</td>\n",
       "      <td>247.80</td>\n",
       "      <td>1652.000000</td>\n",
       "      <td>1404.200000</td>\n",
       "      <td>0.000000</td>\n",
       "    </tr>\n",
       "  </tbody>\n",
       "</table>\n",
       "</div>"
      ],
      "text/plain": [
       "       mes  valor total compra  valor total venda  Imposto Devido  \\\n",
       "0  2020-01             27157.0             5770.0            0.00   \n",
       "1  2020-02             13039.0             6083.0            0.00   \n",
       "2  2020-03              9650.0             4000.0            0.00   \n",
       "3  2020-04              8962.0                0.0            0.00   \n",
       "4  2020-05                 0.0            26083.0         3909.15   \n",
       "5  2020-06              2210.0            21600.0          247.80   \n",
       "\n",
       "           RAbr         RAliq  Prejuizo Absoluto  \n",
       "0   -274.777778   -274.777778        -274.777778  \n",
       "1  -1630.333333  -1630.333333           0.000000  \n",
       "2  -3166.000000  -3166.000000       -3166.000000  \n",
       "3      0.000000      0.000000           0.000000  \n",
       "4  26061.000000  22151.850000           0.000000  \n",
       "5   1652.000000   1404.200000           0.000000  "
      ]
     },
     "execution_count": 7,
     "metadata": {},
     "output_type": "execute_result"
    }
   ],
   "source": [
    "calculadora.summary"
   ]
  }
 ],
 "metadata": {
  "kernelspec": {
   "display_name": "Python 3",
   "language": "python",
   "name": "python3"
  },
  "language_info": {
   "codemirror_mode": {
    "name": "ipython",
    "version": 3
   },
   "file_extension": ".py",
   "mimetype": "text/x-python",
   "name": "python",
   "nbconvert_exporter": "python",
   "pygments_lexer": "ipython3",
   "version": "3.6.10"
  },
  "latex_envs": {
   "LaTeX_envs_menu_present": true,
   "autoclose": false,
   "autocomplete": true,
   "bibliofile": "biblio.bib",
   "cite_by": "apalike",
   "current_citInitial": 1,
   "eqLabelWithNumbers": true,
   "eqNumInitial": 1,
   "hotkeys": {
    "equation": "Ctrl-E",
    "itemize": "Ctrl-I"
   },
   "labels_anchors": false,
   "latex_user_defs": false,
   "report_style_numbering": false,
   "user_envs_cfg": false
  },
  "toc": {
   "base_numbering": 1,
   "nav_menu": {},
   "number_sections": true,
   "sideBar": true,
   "skip_h1_title": false,
   "title_cell": "Table of Contents",
   "title_sidebar": "Contents",
   "toc_cell": false,
   "toc_position": {},
   "toc_section_display": true,
   "toc_window_display": false
  }
 },
 "nbformat": 4,
 "nbformat_minor": 4
}
